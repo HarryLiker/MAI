{
 "cells": [
  {
   "cell_type": "markdown",
   "metadata": {},
   "source": [
    "<h1>Задание 1 - часть 1 - Квадратик</h1>"
   ]
  },
  {
   "cell_type": "code",
   "execution_count": 1,
   "metadata": {},
   "outputs": [],
   "source": [
    "import math"
   ]
  },
  {
   "cell_type": "code",
   "execution_count": 2,
   "metadata": {},
   "outputs": [
    {
     "data": {
      "image/png": "[encoded data removed]",
      "text/plain": [
       "Graphics object consisting of 2 graphics primitives"
      ]
     },
     "metadata": {},
     "output_type": "display_data"
    }
   ],
   "source": [
    "a = 10\n",
    "rectangle_src = matrix([[0,0], [0,a], [a,a], [a,0], [0,0]])\n",
    "alpha = math.radians(30)\n",
    "matrix_rotation = matrix([\n",
    "    [cos(alpha), sin(alpha)],\n",
    "    [-sin(alpha), cos(alpha)]\n",
    "])\n",
    "\n",
    "rectangle_rotated = rectangle_src * matrix_rotation\n",
    "\n",
    "x_move = 20\n",
    "y_move = 15\n",
    "i = 0\n",
    "for elem in rectangle_rotated:\n",
    "    elem[0] += x_move\n",
    "    elem[1] += y_move\n",
    "    rectangle_rotated[i] = elem\n",
    "    i+=1\n",
    "\n",
    "show(line(rectangle_src) + line(rectangle_rotated, color='red'), xmin = 0, xmax = 30, ymin = 0, ymax = 30, aspect_ratio=1)"
   ]
  },
  {
   "cell_type": "markdown",
   "metadata": {},
   "source": [
    "<h1>Задание 1 - часть 2 - Исследование функции</h1>\n",
    "Для заданной формулой функции найти:\n",
    "<ol>\n",
    "    <li>Область определения функции.</li>\n",
    "    <li>Является ли функция четной или нечетной, является ли периодической.</li>\n",
    "    <li>Точки пересечения графика с осями координат.</li>\n",
    "    <li>Промежутки знакопостоянства.</li>\n",
    "    <li>Промежутки возрастания и убывания.</li>\n",
    "    <li>Точки экстремума и значения в этих точках.</li>\n",
    "    <li>Непрерывность. Наличие точек разрыва и их классификация.</li>\n",
    "    <li>Асимптоты.</li>\n",
    "</ol>\n",
    "Построить график функции, асимптоты, промежутки знакопостоянства. (см. папку с материалами).<br>"
   ]
  },
  {
   "cell_type": "code",
   "execution_count": 3,
   "metadata": {
    "scrolled": true
   },
   "outputs": [
    {
     "name": "stdout",
     "output_type": "stream",
     "text": [
      "Номер в списке: 14.\n",
      "Номер задания: 6\n"
     ]
    },
    {
     "data": {
      "text/html": [
       "<html><script type=\"math/tex; mode=display\">\\newcommand{\\Bold}[1]{\\mathbf{#1}}\\verb|Функция|\\phantom{\\verb!x!}\\verb|по|\\phantom{\\verb!x!}\\verb|заданию:| \\frac{\\log\\left(x - 1\\right)}{{\\left(x - 1\\right)}^{2}}</script></html>"
      ],
      "text/latex": [
       "\\begin{math}\n",
       "\\newcommand{\\Bold}[1]{\\mathbf{#1}}\\verb|Функция|\\phantom{\\verb!x!}\\verb|по|\\phantom{\\verb!x!}\\verb|заданию:| \\frac{\\log\\left(x - 1\\right)}{{\\left(x - 1\\right)}^{2}}\n",
       "\\end{math}"
      ],
      "text/plain": [
       "'Функция по заданию: ' log(x - 1)/(x - 1)^2"
      ]
     },
     "metadata": {},
     "output_type": "display_data"
    }
   ],
   "source": [
    "print(\"Номер в списке: 14.\")\n",
    "print(\"Номер задания: 6\")\n",
    "var(\"x T\")\n",
    "y = ln(x - 1) / (x - 1)^2\n",
    "show(\"Функция по заданию: \", y)"
   ]
  },
  {
   "cell_type": "code",
   "execution_count": 4,
   "metadata": {
    "scrolled": true
   },
   "outputs": [
    {
     "data": {
      "image/png": "[encoded data removed]",
      "text/plain": [
       "Graphics object consisting of 1 graphics primitive"
      ]
     },
     "metadata": {},
     "output_type": "display_data"
    }
   ],
   "source": [
    "function = plot(y, (1, 10), ymin = -4, ymax = 1, detect_poles='show', exclude=[1])\n",
    "show(function, xmin=0, xmax=10)"
   ]
  },
  {
   "cell_type": "markdown",
   "metadata": {},
   "source": [
    "<h3>1. Область определения функции.</h3>"
   ]
  },
  {
   "cell_type": "markdown",
   "metadata": {},
   "source": [
    "$D: x > 1$\n",
    "\n",
    "Так как аргумент логарифма $x-1 > 0 \\Rightarrow x > 1$. Также знаменатель функции $(x-1)^2 \\neq 0 \\Rightarrow x \\neq 1$. Поэтому в итоге получается, что функция определена на $x \\in (1, +\\infty)$."
   ]
  },
  {
   "cell_type": "markdown",
   "metadata": {},
   "source": [
    "<h3>2. Является ли функция четной или нечетной, является ли периодической.</h3>"
   ]
  },
  {
   "cell_type": "markdown",
   "metadata": {},
   "source": [
    "$\\textbf{Чётные и нечётные функции}$ - это функции, которые обладают симметрией относительно знака аргумента.\n",
    "\n",
    "$\\textbf{Чётная функция}$ - функция, не изменяющая своего значения при изменении знака независимой переменной: $f(x)=f(-x)$\n",
    "\n",
    "$\\textbf{Нечётная функция}$ - функция, меняющая значение на противоположное при изменении знака независимой переменной: $f(x)=-f(-x)$\n",
    "\n",
    "$\\textbf{Функция общего вида}$ - функция, которая не является ни чётной, ни нечётной."
   ]
  },
  {
   "cell_type": "code",
   "execution_count": 5,
   "metadata": {},
   "outputs": [
    {
     "name": "stdout",
     "output_type": "stream",
     "text": [
      "Функция общего вида\n"
     ]
    }
   ],
   "source": [
    "if ((y(x) - y(-x)).expand().simplify() == 0):\n",
    "    print(\"Функция чётная.\")\n",
    "elif ((y(x) + y(-x)).expand().simplify() == 0):\n",
    "    print(\"Функция нечётная.\")\n",
    "else:\n",
    "    print(\"Функция общего вида\")"
   ]
  },
  {
   "cell_type": "markdown",
   "metadata": {},
   "source": [
    "Видно, что функция является функцией общего вида."
   ]
  },
  {
   "cell_type": "markdown",
   "metadata": {},
   "source": [
    "Функция $y = f(x)$ называется $\\textbf{периодической}$, если существует такое число $T \\neq 0$ - период, что для любого значения x, взятого из области определения функции, значения $(x+T)$ и $(x-T)$ также принадлежат области определения и выполняется равенство $f(x) = f(x+T) = f(x-T)$.\n",
    "\n",
    "График периодической функции состоит из неограниченно повторяющихся одинаковых фрагментов."
   ]
  },
  {
   "cell_type": "code",
   "execution_count": 6,
   "metadata": {},
   "outputs": [],
   "source": [
    "var(\"T\")\n",
    "eq = y(x) - y(x + T)"
   ]
  },
  {
   "cell_type": "code",
   "execution_count": 7,
   "metadata": {},
   "outputs": [
    {
     "data": {
      "text/plain": [
       "[T == -(x*log(x - 1) + sqrt(log(T + x - 1)*log(x - 1))*(x - 1) - log(x - 1))/log(x - 1), T == -(x*log(x - 1) - sqrt(log(T + x - 1)*log(x - 1))*(x - 1) - log(x - 1))/log(x - 1)]"
      ]
     },
     "execution_count": 7,
     "metadata": {},
     "output_type": "execute_result"
    }
   ],
   "source": [
    "solve(eq, T)"
   ]
  },
  {
   "cell_type": "markdown",
   "metadata": {},
   "source": [
    "Мы получили T, которое зависит от самого себя. \n",
    "Поэтому проверяем периодичность функции по графику."
   ]
  },
  {
   "cell_type": "code",
   "execution_count": 8,
   "metadata": {
    "scrolled": false
   },
   "outputs": [
    {
     "data": {
      "image/png": "[encoded data removed]",
      "text/plain": [
       "Graphics object consisting of 1 graphics primitive"
      ]
     },
     "metadata": {},
     "output_type": "display_data"
    }
   ],
   "source": [
    "show(function, xmin=-2, xmax=10)"
   ]
  },
  {
   "cell_type": "markdown",
   "metadata": {},
   "source": [
    "Из графика видно, что функция не является периодической, так как график функции не состоит из неограниченно повтряющихся одинаковых фрагментов. "
   ]
  },
  {
   "cell_type": "markdown",
   "metadata": {},
   "source": [
    "<h3>3. Точки пересечения графика с осями координат</h3>"
   ]
  },
  {
   "cell_type": "code",
   "execution_count": 9,
   "metadata": {},
   "outputs": [
    {
     "data": {
      "text/html": [
       "<html><script type=\"math/tex; mode=display\">\\newcommand{\\Bold}[1]{\\mathbf{#1}}\\verb|Корни|\\phantom{\\verb!x!}\\verb|функции:| \\left[x = 2\\right]</script></html>"
      ],
      "text/latex": [
       "\\begin{math}\n",
       "\\newcommand{\\Bold}[1]{\\mathbf{#1}}\\verb|Корни|\\phantom{\\verb!x!}\\verb|функции:| \\left[x = 2\\right]\n",
       "\\end{math}"
      ],
      "text/plain": [
       "'Корни функции: ' [x == 2]"
      ]
     },
     "metadata": {},
     "output_type": "display_data"
    }
   ],
   "source": [
    "root = solve(y, x)\n",
    "show(\"Корни функции: \", root)"
   ]
  },
  {
   "cell_type": "markdown",
   "metadata": {},
   "source": [
    "Так как область определения $D: x > 1$, то функция не будет пересекать ось ординат (ось $Oy$). \n",
    "Ось абсцисс (ось $Ox$) функция пересекает в точке $x = 2$."
   ]
  },
  {
   "cell_type": "markdown",
   "metadata": {},
   "source": [
    "<h3>4. Промежутки знакопостоянства</h3>"
   ]
  },
  {
   "cell_type": "markdown",
   "metadata": {},
   "source": [
    "Мы знаем, что корень функции $x = 2$. Поэтому мы должны проверить, знак функции слева и справа от корня."
   ]
  },
  {
   "cell_type": "code",
   "execution_count": 10,
   "metadata": {},
   "outputs": [
    {
     "name": "stdout",
     "output_type": "stream",
     "text": [
      "y < 0 при x: (1, 2)\n",
      "y > 0 при x: (2, +∞)\n"
     ]
    }
   ],
   "source": [
    "if (y(2 - 0.0001) < 0):\n",
    "    print(\"y < 0 при x: (1, 2)\")\n",
    "else:\n",
    "    print(\"y > 0 при x: (1, 2)\")\n",
    "    \n",
    "if (y(2 + 0.0001) < 0):\n",
    "    print(\"y < 0 при x: (2, +\\u221E)\")\n",
    "else:\n",
    "    print(\"y > 0 при x: (2, +\\u221E)\")"
   ]
  },
  {
   "cell_type": "code",
   "execution_count": 11,
   "metadata": {},
   "outputs": [
    {
     "data": {
      "image/png": "[encoded data removed]",
      "text/plain": [
       "Graphics object consisting of 8 graphics primitives"
      ]
     },
     "metadata": {},
     "output_type": "display_data"
    }
   ],
   "source": [
    "# отрисовка отрезка - основная линия для графика промежутков знакопостоянства\n",
    "intervals_of_constancy = plot(0, xmin=0, xmax=4, ymin=-0.5, ymax=0.5)\n",
    "\n",
    "# добавление красных маркеров - отметки точек\\маркеров\n",
    "intervals_of_constancy  += point((2, 0), color=\"black\", size=100,  zorder=10)\n",
    "\n",
    "# Здесь добавляем выколотую точку\n",
    "intervals_of_constancy += circle((0, 0), 0.05, edgecolor=\"black\", \n",
    "                                 facecolor='white', \n",
    "                                 fill=True)\n",
    "\n",
    "# Здесь добавляем подписи точек (значения по оси X)\n",
    "intervals_of_constancy  += text(\"$1$\", (0, 0.2), color=\"black\", fontsize=20)\n",
    "intervals_of_constancy  += text(\"$2$\", (2, 0.2), color=\"black\", fontsize=20)\n",
    "intervals_of_constancy  += text(\"$+\\u221E$\", (4, 0.2), color=\"black\", fontsize=20)\n",
    "\n",
    "# Здесь добавляем подписи знаков промежутков знакопостоянства\n",
    "y_margin = 0.2  # смещение по оси Y элемента подписи, чтобы он не наслаивался на линию \n",
    "intervals_of_constancy  += text(\"-\", (1 , y_margin), color=\"red\", fontsize=20)\n",
    "intervals_of_constancy  += text(\"+\", (3 , y_margin), color=\"red\", fontsize=20)\n",
    "\n",
    "# Оси не нужны - скрываем\n",
    "intervals_of_constancy.show(axes=False)"
   ]
  },
  {
   "cell_type": "markdown",
   "metadata": {},
   "source": [
    "<h3>5. Промежутки возрастания и убывания</h3>"
   ]
  },
  {
   "cell_type": "code",
   "execution_count": 12,
   "metadata": {},
   "outputs": [
    {
     "data": {
      "text/html": [
       "<html><script type=\"math/tex; mode=display\">\\newcommand{\\Bold}[1]{\\mathbf{#1}}-\\frac{2 \\, \\log\\left(x - 1\\right)}{{\\left(x - 1\\right)}^{3}} + \\frac{1}{{\\left(x - 1\\right)}^{3}}</script></html>"
      ],
      "text/latex": [
       "\\begin{math}\n",
       "\\newcommand{\\Bold}[1]{\\mathbf{#1}}-\\frac{2 \\, \\log\\left(x - 1\\right)}{{\\left(x - 1\\right)}^{3}} + \\frac{1}{{\\left(x - 1\\right)}^{3}}\n",
       "\\end{math}"
      ],
      "text/plain": [
       "-2*log(x - 1)/(x - 1)^3 + 1/(x - 1)^3"
      ]
     },
     "metadata": {},
     "output_type": "display_data"
    }
   ],
   "source": [
    "differential_function = diff(y)\n",
    "show(differential_function)"
   ]
  },
  {
   "cell_type": "code",
   "execution_count": 13,
   "metadata": {},
   "outputs": [],
   "source": [
    "differential_grapf = plot(differential_function, (1, 10), exclude=[1])"
   ]
  },
  {
   "cell_type": "code",
   "execution_count": 14,
   "metadata": {
    "scrolled": false
   },
   "outputs": [
    {
     "data": {
      "image/png": "[encoded data removed]",
      "text/plain": [
       "Graphics object consisting of 1 graphics primitive"
      ]
     },
     "metadata": {},
     "output_type": "display_data"
    }
   ],
   "source": [
    "show(differential_grapf, xmin=0, xmax = 8, ymin=0, ymax=4)"
   ]
  },
  {
   "cell_type": "code",
   "execution_count": 15,
   "metadata": {},
   "outputs": [
    {
     "data": {
      "text/html": [
       "<html><script type=\"math/tex; mode=display\">\\newcommand{\\Bold}[1]{\\mathbf{#1}}\\verb|Корень|\\phantom{\\verb!x!}\\verb|производной:| e^{\\frac{1}{2}} + 1</script></html>"
      ],
      "text/latex": [
       "\\begin{math}\n",
       "\\newcommand{\\Bold}[1]{\\mathbf{#1}}\\verb|Корень|\\phantom{\\verb!x!}\\verb|производной:| e^{\\frac{1}{2}} + 1\n",
       "\\end{math}"
      ],
      "text/plain": [
       "'Корень производной: ' e^(1/2) + 1"
      ]
     },
     "metadata": {},
     "output_type": "display_data"
    }
   ],
   "source": [
    "# Находим значение x, при котором производная равна нулю\n",
    "differential_root = solve([diff(y, x) == 0], x, solution_dict=True)[0][x]\n",
    "show(\"Корень производной: \", differential_root)"
   ]
  },
  {
   "cell_type": "markdown",
   "metadata": {},
   "source": [
    "В точке $x = e^{\\frac{1}{2}} + 1$ производная функции равна нулю."
   ]
  },
  {
   "cell_type": "markdown",
   "metadata": {},
   "source": [
    "У производной от заданной функции всего один корень, поэтому мы должны посмотреть всего два промежутка."
   ]
  },
  {
   "cell_type": "code",
   "execution_count": 16,
   "metadata": {},
   "outputs": [
    {
     "data": {
      "text/html": [
       "<html><script type=\"math/tex; mode=display\">\\newcommand{\\Bold}[1]{\\mathbf{#1}}\\verb|Функция| \\frac{\\log\\left(x - 1\\right)}{{\\left(x - 1\\right)}^{2}} \\verb|возрастает|\\phantom{\\verb!x!}\\verb|на|\\phantom{\\verb!x!}\\verb|промежутке:|\\phantom{\\verb!x!}\\verb|(1,|\\phantom{\\verb!x!}\\verb|e^(1/2)|\\phantom{\\verb!x!}\\verb|+|\\phantom{\\verb!x!}\\verb|1)|</script></html>"
      ],
      "text/latex": [
       "\\begin{math}\n",
       "\\newcommand{\\Bold}[1]{\\mathbf{#1}}\\verb|Функция| \\frac{\\log\\left(x - 1\\right)}{{\\left(x - 1\\right)}^{2}} \\verb|возрастает|\\phantom{\\verb!x!}\\verb|на|\\phantom{\\verb!x!}\\verb|промежутке:|\\phantom{\\verb!x!}\\verb|(1,|\\phantom{\\verb!x!}\\verb|e^(1/2)|\\phantom{\\verb!x!}\\verb|+|\\phantom{\\verb!x!}\\verb|1)|\n",
       "\\end{math}"
      ],
      "text/plain": [
       "'Функция ' log(x - 1)/(x - 1)^2 'возрастает на промежутке: (1, e^(1/2) + 1)'"
      ]
     },
     "metadata": {},
     "output_type": "display_data"
    },
    {
     "data": {
      "text/html": [
       "<html><script type=\"math/tex; mode=display\">\\newcommand{\\Bold}[1]{\\mathbf{#1}}\\verb|Функция| \\frac{\\log\\left(x - 1\\right)}{{\\left(x - 1\\right)}^{2}} \\verb|убывает|\\phantom{\\verb!x!}\\verb|на|\\phantom{\\verb!x!}\\verb|промежутке:|\\phantom{\\verb!x!}\\verb|(e^(1/2)|\\phantom{\\verb!x!}\\verb|+|\\phantom{\\verb!x!}\\verb|1,|\\phantom{\\verb!x!}\\verb|+∞)|</script></html>"
      ],
      "text/latex": [
       "\\begin{math}\n",
       "\\newcommand{\\Bold}[1]{\\mathbf{#1}}\\verb|Функция| \\frac{\\log\\left(x - 1\\right)}{{\\left(x - 1\\right)}^{2}} \\verb|убывает|\\phantom{\\verb!x!}\\verb|на|\\phantom{\\verb!x!}\\verb|промежутке:|\\phantom{\\verb!x!}\\verb|(e^(1/2)|\\phantom{\\verb!x!}\\verb|+|\\phantom{\\verb!x!}\\verb|1,|\\phantom{\\verb!x!}\\verb|+∞)|\n",
       "\\end{math}"
      ],
      "text/plain": [
       "'Функция ' log(x - 1)/(x - 1)^2 'убывает на промежутке: (e^(1/2) + 1, +∞)'"
      ]
     },
     "metadata": {},
     "output_type": "display_data"
    }
   ],
   "source": [
    "# Находим промежутки возрастания и убывания функции,\n",
    "# рассматривая значения производной от функции слева и справа от корня производной\n",
    "if (float(differential_function(differential_root-0.0001)) < 0):\n",
    "    show(\"Функция \", y, \"убывает на промежутке: (1, {differential_root}\")\n",
    "else:\n",
    "    show(\"Функция \", y, f\"возрастает на промежутке: (1, {differential_root})\")\n",
    "    \n",
    "if (float(differential_function(differential_root+0.0001)) < 0):\n",
    "    show(\"Функция \", y, f\"убывает на промежутке: ({differential_root}, +\\u221E)\")\n",
    "else:\n",
    "    show(\"Функция \", y, f\"возрастает на промежутке: ({differential_root}, +\\u221E)\")"
   ]
  },
  {
   "cell_type": "code",
   "execution_count": 17,
   "metadata": {},
   "outputs": [
    {
     "data": {
      "image/png": "[encoded data removed]",
      "text/plain": [
       "Graphics object consisting of 8 graphics primitives"
      ]
     },
     "metadata": {},
     "output_type": "display_data"
    }
   ],
   "source": [
    "# отрисовка отрезка - основная линия для графика промежутков знакопостоянства\n",
    "intervals_of_constancy = plot(0, xmin=0, xmax=8, ymin=-0.5, ymax=0.5)\n",
    "\n",
    "# Добавление красных маркеров - отметки точек\\маркеров\n",
    "intervals_of_constancy  += point((4, 0), color=\"black\", size=100,  zorder=10)\n",
    "\n",
    "\n",
    "# Добавление выколотой точки 1\n",
    "intervals_of_constancy += circle((0, 0), 0.095, edgecolor=\"black\", \n",
    "                                 facecolor='white', \n",
    "                                 fill=True)\n",
    "\n",
    "# Здесь добавляем подписи точек (значения по оси X)\n",
    "intervals_of_constancy  += text(\"$1$\", (0, 0.3), color=\"black\", fontsize=15)\n",
    "intervals_of_constancy  += text(f\"{differential_root}\", (4,0.3), color=\"black\", fontsize=15)\n",
    "intervals_of_constancy  += text(\"$+\\u221E$\", (8, 0.3), color=\"black\", fontsize=15)\n",
    "\n",
    "# Здесь добавляем стрелки возрастания и убывания функции\n",
    "intervals_of_constancy  += arrow((0.3,-1), (3,-0.1), color = \"red\")\n",
    "intervals_of_constancy  += arrow((5,-0.1), (8,-1), color = \"red\")\n",
    "\n",
    "# Оси не нужны - скрываем\n",
    "intervals_of_constancy.show(axes=False, ymin=-1.1, ymax=0.5)"
   ]
  },
  {
   "cell_type": "markdown",
   "metadata": {},
   "source": [
    "Функция возрастает на промежутке $x \\in (1, e^{\\frac{1}{2}} + 1)$.\n",
    "\n",
    "Функция убывает на промежутке $x \\in (e^{\\frac{1}{2}} + 1, +\\infty)$."
   ]
  },
  {
   "cell_type": "markdown",
   "metadata": {},
   "source": [
    "<h3>6. Точки экстремума и значения в этих точках.</h3>"
   ]
  },
  {
   "cell_type": "markdown",
   "metadata": {},
   "source": [
    "Так как при нахождении промежутков возрастания и убывания было выянено, что производная от функции $y = \\frac{ln(x - 1)}{(x - 1)^2}$ имеет принимает отрицательные значения при $x \\in (1, e^{\\frac{1}{2}} + 1)$, и принимает положительные значения при $x \\in (e^{\\frac{1}{2}} + 1, +\\infty)$, то $x = e^{\\frac{1}{2}}$ - точка экстремума функции $y = \\frac{ln(x - 1)}{(x - 1)^2}$."
   ]
  },
  {
   "cell_type": "code",
   "execution_count": 18,
   "metadata": {},
   "outputs": [
    {
     "name": "stdout",
     "output_type": "stream",
     "text": [
      "Экстремум: x = e^(1/2) + 1, y = 1/2*e^(-1)\n"
     ]
    }
   ],
   "source": [
    "# Осталось найти значение функции y в точке экстремума\n",
    "y_extremum = y(differential_root)\n",
    "print(f\"Экстремум: x = {differential_root}, y = {y_extremum}\")"
   ]
  },
  {
   "cell_type": "markdown",
   "metadata": {},
   "source": [
    "<h3>7. Непрерывность. Наличие точек разрыва и их классификация.</h3>"
   ]
  },
  {
   "cell_type": "code",
   "execution_count": 19,
   "metadata": {},
   "outputs": [
    {
     "data": {
      "text/plain": [
       "-Infinity"
      ]
     },
     "execution_count": 19,
     "metadata": {},
     "output_type": "execute_result"
    }
   ],
   "source": [
    "limit(y, x = 1, dir = '+')"
   ]
  },
  {
   "cell_type": "markdown",
   "metadata": {},
   "source": [
    "Функция определена и непрерывна на $x \\in (1; +\\infty)$.\n",
    "В точке $x = 1$ функция имеет правосторонний предел, равный $-\\infty$, значит, $x = 1$ - точка разрыва 2 рода."
   ]
  },
  {
   "cell_type": "markdown",
   "metadata": {},
   "source": [
    "<h3>8. Асимптоты</h3>"
   ]
  },
  {
   "cell_type": "markdown",
   "metadata": {},
   "source": [
    "Прямая $y = kx+b$ называется наклонной асимптотой графика функции $y = f(x)$,\n",
    "при $x \\to +\\infty$, если $\\lim\\limits_{x\\to +\\infty}[f(x) - (kx+b)] = 0$.\n",
    "\n",
    "Прямая $y = kx+b$ называется наклонной асимптотой графика функции $y = f(x)$,\n",
    "при $x \\to -\\infty$, если $\\lim\\limits_{x\\to -\\infty}[f(x) - (kx+b)] = 0$."
   ]
  },
  {
   "cell_type": "code",
   "execution_count": 20,
   "metadata": {},
   "outputs": [
    {
     "name": "stdout",
     "output_type": "stream",
     "text": [
      "k1=0, b1=0\n",
      "k2=0, b2=0\n"
     ]
    }
   ],
   "source": [
    "k1 = limit(y(x)/x, x=-Infinity)\n",
    "b1 = limit(y(x)-k1*x, x=-Infinity)\n",
    "\n",
    "k2 = limit(y(x)/x, x=+Infinity)\n",
    "b2 = limit(y(x)-k2*x, x=+Infinity)\n",
    "\n",
    "print(f\"k1={k1}, b1={b1}\")\n",
    "print(f\"k2={k2}, b2={b2}\")"
   ]
  },
  {
   "cell_type": "markdown",
   "metadata": {},
   "source": [
    "При поиске наклонных асимптот $y=kx+b$ получилось, что $k=0$ и $b=0$. Следовательно $y=0$ - горизонтальная асимптота (т.к. $k=0$)."
   ]
  },
  {
   "cell_type": "markdown",
   "metadata": {},
   "source": [
    "Прямая $x = a$ является вертикальной асимптотой графика функции $y = f(x)$, если выполнено хотя бы одно из условий: $\\lim\\limits_{x\\to a-0}f(x) = \\pm\\infty$, $\\lim\\limits_{x\\to a+0}f(x) = \\pm\\infty$."
   ]
  },
  {
   "cell_type": "code",
   "execution_count": 21,
   "metadata": {},
   "outputs": [
    {
     "data": {
      "text/plain": [
       "-Infinity"
      ]
     },
     "execution_count": 21,
     "metadata": {},
     "output_type": "execute_result"
    }
   ],
   "source": [
    "# Так как функция определена на (1, +Infinity), то смотрим предел 1 справа.\n",
    "limit(y(x), x=1, dir='+')"
   ]
  },
  {
   "cell_type": "markdown",
   "metadata": {},
   "source": [
    "Из результата видно, что $x=1$ - вертикальная асимптота."
   ]
  },
  {
   "cell_type": "code",
   "execution_count": 22,
   "metadata": {},
   "outputs": [],
   "source": [
    "vertical_asymptote = 1\n",
    "horizontal_asymptote = 0"
   ]
  },
  {
   "cell_type": "markdown",
   "metadata": {},
   "source": [
    "Функция имеет горизонтальную асимптоту y = 0. \n",
    "\n",
    "Функция имеет вертикальную асимптоту x = 1."
   ]
  },
  {
   "cell_type": "code",
   "execution_count": 23,
   "metadata": {},
   "outputs": [
    {
     "data": {
      "image/png": "[encoded data removed]",
      "text/plain": [
       "Graphics object consisting of 3 graphics primitives"
      ]
     },
     "metadata": {},
     "output_type": "display_data"
    }
   ],
   "source": [
    "vert_asympt_graph = line([(vertical_asymptote, -10), (vertical_asymptote, 10)], \n",
    "                         color=\"red\", \n",
    "                         linestyle='--',\n",
    "                         thickness=2)\n",
    "\n",
    "hor_asympt_graph = line([(-10, horizontal_asymptote), (10, horizontal_asymptote)], \n",
    "                        color=\"red\", \n",
    "                        linestyle='--',\n",
    "                        thickness=2)\n",
    "show(function + vert_asympt_graph + hor_asympt_graph, xmin = -1, xmax = 9, ymin = -5, ymax = 2)"
   ]
  }
 ],
 "metadata": {
  "kernelspec": {
   "display_name": "SageMath 9.2",
   "language": "sage",
   "name": "sagemath"
  },
  "language_info": {
   "codemirror_mode": {
    "name": "ipython",
    "version": 3
   },
   "file_extension": ".py",
   "mimetype": "text/x-python",
   "name": "python",
   "nbconvert_exporter": "python",
   "pygments_lexer": "ipython3",
   "version": "3.7.7"
  }
 },
 "nbformat": 4,
 "nbformat_minor": 4
}
