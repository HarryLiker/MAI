{
 "cells": [
  {
   "cell_type": "markdown",
   "metadata": {},
   "source": [
    "<h1>Задание 1 - часть 1 - Квадратик</h1>"
   ]
  },
  {
   "cell_type": "code",
   "execution_count": 1,
   "metadata": {},
   "outputs": [],
   "source": [
    "import math"
   ]
  },
  {
   "cell_type": "code",
   "execution_count": 2,
   "metadata": {},
   "outputs": [
    {
     "data": {
      "image/png": "[encoded data removed]",
      "text/plain": [
       "Graphics object consisting of 2 graphics primitives"
      ]
     },
     "metadata": {},
     "output_type": "display_data"
    }
   ],
   "source": [
    "a = 10\n",
    "rectangle_src = matrix([[0,0], [0,a], [a,a], [a,0], [0,0]])\n",
    "alpha = math.radians(30)\n",
    "matrix_rotation = matrix([\n",
    "    [cos(alpha), sin(alpha)],\n",
    "    [-sin(alpha), cos(alpha)]\n",
    "])\n",
    "\n",
    "rectangle_rotated = rectangle_src * matrix_rotation\n",
    "\n",
    "x_move = 20\n",
    "y_move = 15\n",
    "i = 0\n",
    "for elem in rectangle_rotated:\n",
    "    elem[0] += x_move\n",
    "    elem[1] += y_move\n",
    "    rectangle_rotated[i] = elem\n",
    "    i+=1\n",
    "\n",
    "show(line(rectangle_src) + line(rectangle_rotated, color='red'), xmin = 0, xmax = 30, ymin = 0, ymax = 30, aspect_ratio=1)"
   ]
  },
  {
   "cell_type": "markdown",
   "metadata": {},
   "source": [
    "<h1>Задание 1 - часть 2 - Исследование функции</h1>\n",
    "Для заданной формулой функции найти:\n",
    "<ol>\n",
    "    <li>Область определения функции.</li>\n",
    "    <li>Является ли функция четной или нечетной, является ли периодической.</li>\n",
    "    <li>Точки пересечения графика с осями координат.</li>\n",
    "    <li>Промежутки знакопостоянства.</li>\n",
    "    <li>Промежутки возрастания и убывания.</li>\n",
    "    <li>Точки экстремума и значения в этих точках.</li>\n",
    "    <li>Непрерывность. Наличие точек разрыва и их классификация.</li>\n",
    "    <li>Асимптоты.</li>\n",
    "</ol>\n",
    "Построить график функции, асимптоты, промежутки знакопостоянства. (см. папку с материалами).<br>\n",
    "Необходимо также сделать минимальное, но оформление решения, а не просто набор ответов.\n",
    "\n",
    "<h4>Справочные материалы:</h4>\n",
    "<ol>\n",
    "    <li>Гусак, 1999г. - исследование графиков</li>\n",
    "    <li>Ефимов, Поспелов — т.2, стр. 86</li>\n",
    "    <li>Ильин, Поздняк — т.1, стр. 143 и стр. 300-327</li>\n",
    "    <li>Пискунов — стр. 144-184</li>\n",
    "</ol>"
   ]
  },
  {
   "cell_type": "code",
   "execution_count": 3,
   "metadata": {
    "scrolled": true
   },
   "outputs": [
    {
     "name": "stdout",
     "output_type": "stream",
     "text": [
      "Номер в списке: 14.\n",
      "Номер задания: 6\n"
     ]
    },
    {
     "data": {
      "text/html": [
       "<html><script type=\"math/tex; mode=display\">\\newcommand{\\Bold}[1]{\\mathbf{#1}}\\verb|Функция|\\phantom{\\verb!x!}\\verb|по|\\phantom{\\verb!x!}\\verb|заданию:| \\frac{\\log\\left(x - 1\\right)}{{\\left(x - 1\\right)}^{2}}</script></html>"
      ],
      "text/latex": [
       "\\begin{math}\n",
       "\\newcommand{\\Bold}[1]{\\mathbf{#1}}\\verb|Функция|\\phantom{\\verb!x!}\\verb|по|\\phantom{\\verb!x!}\\verb|заданию:| \\frac{\\log\\left(x - 1\\right)}{{\\left(x - 1\\right)}^{2}}\n",
       "\\end{math}"
      ],
      "text/plain": [
       "'Функция по заданию: ' log(x - 1)/(x - 1)^2"
      ]
     },
     "metadata": {},
     "output_type": "display_data"
    }
   ],
   "source": [
    "print(\"Номер в списке: 14.\")\n",
    "print(\"Номер задания: 6\")\n",
    "var(\"x T\")\n",
    "y = ln(x - 1) / (x - 1)^2\n",
    "show(\"Функция по заданию: \", y)"
   ]
  },
  {
   "cell_type": "code",
   "execution_count": 50,
   "metadata": {
    "scrolled": true
   },
   "outputs": [
    {
     "data": {
      "image/png": "[encoded data removed]",
      "text/plain": [
       "Graphics object consisting of 2 graphics primitives"
      ]
     },
     "metadata": {},
     "output_type": "display_data"
    }
   ],
   "source": [
    "#p1 = plot(y, (x, 1, 6), ymin = -10, ymax = 10)\n",
    "#p2 = plot(0, (x, 1, 6), color=\"red\", linestyle=\":\", thickness=2)\n",
    "function = plot(y, (1, 10), ymin = -4, ymax = 1, detect_poles='show', exclude=[1])\n",
    "a = plot(0, (1, 10), color='red')\n",
    "#a.show()\n",
    "show(function + a)\n",
    "#function.show(xmin=-2, xmax=10)\n",
    "#show(p1 + p2)"
   ]
  },
  {
   "cell_type": "markdown",
   "metadata": {},
   "source": [
    "<h3>1. Область определения функции.</h3>"
   ]
  },
  {
   "cell_type": "markdown",
   "metadata": {},
   "source": [
    "$D: x > 1$\n",
    "\n",
    "Так как аргумент логарифма $x-1 > 0 \\Rightarrow x > 1$. Также знаменатель функции $(x-1)^2 \\neq 0 \\Rightarrow x \\neq 1$. Поэтому в итоге получается, что функция определена на $x \\in (1, +\\infty)$."
   ]
  },
  {
   "cell_type": "markdown",
   "metadata": {},
   "source": [
    "<h3>2. Является ли функция четной или нечетной, является ли периодической.</h3>"
   ]
  },
  {
   "cell_type": "markdown",
   "metadata": {},
   "source": [
    "$\\textbf{Чётные и нечётные функции}$ - это функции, которые обладают симметрией относительно знака аргумента.\n",
    "\n",
    "$\\textbf{Чётная функция}$ - функция, не изменяющая своего значения при изменении знака независимой переменной.\n",
    "\n",
    "$\\textbf{Нечётная функция}$ - функция, меняющая значение на противоположное при изменении знака независимой переменной.\n",
    "\n",
    "$\\textbf{Функция общего вида}$ - функция, которая не является ни чётной, ни нечётной."
   ]
  },
  {
   "cell_type": "code",
   "execution_count": 5,
   "metadata": {
    "scrolled": true
   },
   "outputs": [
    {
     "data": {
      "text/plain": [
       "log(x - 1)/(x - 1)^2"
      ]
     },
     "execution_count": 5,
     "metadata": {},
     "output_type": "execute_result"
    }
   ],
   "source": [
    "y(x)"
   ]
  },
  {
   "cell_type": "code",
   "execution_count": 6,
   "metadata": {},
   "outputs": [
    {
     "data": {
      "text/plain": [
       "log(-x - 1)/(x + 1)^2"
      ]
     },
     "execution_count": 6,
     "metadata": {},
     "output_type": "execute_result"
    }
   ],
   "source": [
    "y(-x)"
   ]
  },
  {
   "cell_type": "code",
   "execution_count": 7,
   "metadata": {},
   "outputs": [
    {
     "data": {
      "text/plain": [
       "log(x - 1)/(x^2 - 2*x + 1) - log(-x - 1)/(x^2 + 2*x + 1)"
      ]
     },
     "execution_count": 7,
     "metadata": {},
     "output_type": "execute_result"
    }
   ],
   "source": [
    "(y(x) - y(-x)).expand().simplify()"
   ]
  },
  {
   "cell_type": "markdown",
   "metadata": {},
   "source": [
    "Функция не является чётной."
   ]
  },
  {
   "cell_type": "markdown",
   "metadata": {},
   "source": [
    "Видно, что функция является функцией общего вида."
   ]
  },
  {
   "cell_type": "markdown",
   "metadata": {},
   "source": [
    "Функция $y = f(x)$ называется $\\textbf{периодической}$, если существует такое число $T \\neq 0$ - период, что для любого значения x, взятого из области определения функции, значения $(x+T)$ и $(y+T)$ также принадлежат области определения и выполняется равенство $f(x) = f(x+T) = f(x-T)$."
   ]
  },
  {
   "cell_type": "code",
   "execution_count": 8,
   "metadata": {},
   "outputs": [
    {
     "name": "stdout",
     "output_type": "stream",
     "text": [
      "Функция не периодическая.\n"
     ]
    }
   ],
   "source": [
    "if ((y(x) - y(-x)).expand().simplify() == 0):\n",
    "    print(\"Функция периодическая.\")\n",
    "else :\n",
    "    print(\"Функция не периодическая.\")"
   ]
  },
  {
   "cell_type": "code",
   "execution_count": 9,
   "metadata": {},
   "outputs": [],
   "source": [
    "eq1 = y(x) - y(x + T)"
   ]
  },
  {
   "cell_type": "code",
   "execution_count": 10,
   "metadata": {},
   "outputs": [
    {
     "data": {
      "text/plain": [
       "(2*(T - 1)*x*log(x - 1) + x^2*log(x - 1) - (x^2 - 2*x + 1)*log(T + x - 1) + (T^2 - 2*T + 1)*log(x - 1))/(2*(T - 2)*x^3 + x^4 + (T^2 - 6*T + 6)*x^2 + T^2 - 2*(T^2 - 3*T + 2)*x - 2*T + 1)"
      ]
     },
     "execution_count": 10,
     "metadata": {},
     "output_type": "execute_result"
    }
   ],
   "source": [
    "eq1.simplify_full()"
   ]
  },
  {
   "cell_type": "code",
   "execution_count": 11,
   "metadata": {},
   "outputs": [],
   "source": [
    "eq1 = _"
   ]
  },
  {
   "cell_type": "code",
   "execution_count": 12,
   "metadata": {},
   "outputs": [
    {
     "data": {
      "text/html": [
       "<html><script type=\"math/tex; mode=display\">\\newcommand{\\Bold}[1]{\\mathbf{#1}}\\frac{2 \\, {\\left(T - 1\\right)} x \\log\\left(x - 1\\right) + x^{2} \\log\\left(x - 1\\right) - {\\left(x^{2} - 2 \\, x + 1\\right)} \\log\\left(T + x - 1\\right) + {\\left(T^{2} - 2 \\, T + 1\\right)} \\log\\left(x - 1\\right)}{2 \\, {\\left(T - 2\\right)} x^{3} + x^{4} + {\\left(T^{2} - 6 \\, T + 6\\right)} x^{2} + T^{2} - 2 \\, {\\left(T^{2} - 3 \\, T + 2\\right)} x - 2 \\, T + 1}</script></html>"
      ],
      "text/latex": [
       "\\begin{math}\n",
       "\\newcommand{\\Bold}[1]{\\mathbf{#1}}\\frac{2 \\, {\\left(T - 1\\right)} x \\log\\left(x - 1\\right) + x^{2} \\log\\left(x - 1\\right) - {\\left(x^{2} - 2 \\, x + 1\\right)} \\log\\left(T + x - 1\\right) + {\\left(T^{2} - 2 \\, T + 1\\right)} \\log\\left(x - 1\\right)}{2 \\, {\\left(T - 2\\right)} x^{3} + x^{4} + {\\left(T^{2} - 6 \\, T + 6\\right)} x^{2} + T^{2} - 2 \\, {\\left(T^{2} - 3 \\, T + 2\\right)} x - 2 \\, T + 1}\n",
       "\\end{math}"
      ],
      "text/plain": [
       "(2*(T - 1)*x*log(x - 1) + x^2*log(x - 1) - (x^2 - 2*x + 1)*log(T + x - 1) + (T^2 - 2*T + 1)*log(x - 1))/(2*(T - 2)*x^3 + x^4 + (T^2 - 6*T + 6)*x^2 + T^2 - 2*(T^2 - 3*T + 2)*x - 2*T + 1)"
      ]
     },
     "metadata": {},
     "output_type": "display_data"
    }
   ],
   "source": [
    "show(eq1)"
   ]
  },
  {
   "cell_type": "code",
   "execution_count": 13,
   "metadata": {},
   "outputs": [],
   "source": [
    "eq1 = y(x) - y(x + T)"
   ]
  },
  {
   "cell_type": "code",
   "execution_count": 14,
   "metadata": {},
   "outputs": [
    {
     "data": {
      "text/plain": [
       "[T == -(x*log(x - 1) + sqrt(log(T + x - 1)*log(x - 1))*(x - 1) - log(x - 1))/log(x - 1), T == -(x*log(x - 1) - sqrt(log(T + x - 1)*log(x - 1))*(x - 1) - log(x - 1))/log(x - 1)]"
      ]
     },
     "execution_count": 14,
     "metadata": {},
     "output_type": "execute_result"
    }
   ],
   "source": [
    "solve(eq1, T)"
   ]
  },
  {
   "cell_type": "markdown",
   "metadata": {},
   "source": [
    "<h3>3. Точки пересечения графика с осями координат</h3>"
   ]
  },
  {
   "cell_type": "code",
   "execution_count": 15,
   "metadata": {},
   "outputs": [
    {
     "data": {
      "text/html": [
       "<html><script type=\"math/tex; mode=display\">\\newcommand{\\Bold}[1]{\\mathbf{#1}}\\verb|Корни|\\phantom{\\verb!x!}\\verb|функции:| 2.0</script></html>"
      ],
      "text/latex": [
       "\\begin{math}\n",
       "\\newcommand{\\Bold}[1]{\\mathbf{#1}}\\verb|Корни|\\phantom{\\verb!x!}\\verb|функции:| 2.0\n",
       "\\end{math}"
      ],
      "text/plain": [
       "'Корни функции: ' 2.0"
      ]
     },
     "metadata": {},
     "output_type": "display_data"
    }
   ],
   "source": [
    "root = find_root(y, 1, 100)\n",
    "#root = solve(y, x)\n",
    "show(\"Корни функции: \", root)"
   ]
  },
  {
   "cell_type": "markdown",
   "metadata": {},
   "source": [
    "<h3>4. Промежутки знакопостоянства</h3>"
   ]
  },
  {
   "cell_type": "code",
   "execution_count": 16,
   "metadata": {},
   "outputs": [
    {
     "name": "stdout",
     "output_type": "stream",
     "text": [
      "y < 0 при x: (1, 2)\n",
      "y > 0 при x: (2, +∞)\n"
     ]
    }
   ],
   "source": [
    "if (y(root - 0.5) < 0):\n",
    "    print(\"y < 0 при x: (1, 2)\")\n",
    "else:\n",
    "    print(\"y > 0 при x: (1, 2)\")\n",
    "    \n",
    "if (y(root + 0.5) < 0):\n",
    "    print(\"y < 0 при x: (2, +\\u221E)\")\n",
    "else:\n",
    "    print(\"y > 0 при x: (2, +\\u221E)\")\n",
    "    "
   ]
  },
  {
   "cell_type": "code",
   "execution_count": 35,
   "metadata": {},
   "outputs": [
    {
     "data": {
      "image/png": "[encoded data removed]",
      "text/plain": [
       "Graphics object consisting of 7 graphics primitives"
      ]
     },
     "metadata": {},
     "output_type": "display_data"
    }
   ],
   "source": [
    "# отрисовка отрезка - основная линия для графика промежутков знакопостоянства\n",
    "intervals_of_constancy = plot(0, xmin=0, xmax=3, ymin=-0.5, ymax=0.5)\n",
    "plot\n",
    "\n",
    "# добавление красных маркеров - отметки точек\\маркеров\n",
    "intervals_of_constancy  += point((1, 0), color=\"red\", size=30, zorder=10)\n",
    "intervals_of_constancy  += point((2, 0), color=\"red\", size=30,  zorder=10)\n",
    "\n",
    "# здесь добавляем подписи точек (значения по оси X)\n",
    "intervals_of_constancy  += text(\"$1$\", (1, 0.1), color=\"black\", fontsize=25)\n",
    "intervals_of_constancy  += text(\"$2$\", (2, 0.1), color=\"black\", fontsize=25)\n",
    "\n",
    "# Здесь добавляем подписи знаков промежутков знакопостоянства\n",
    "y_margin = 0.1  # смещение по оси Y элемента подписи, чтобы он не наслаивался на линию \n",
    "intervals_of_constancy  += text(\"-\", (1.5 , y_margin), color=\"red\", fontsize=25)\n",
    "intervals_of_constancy  += text(\"+\", (2.5 , y_margin), color=\"red\", fontsize=25)\n",
    "\n",
    "# оси не нужны - скрываем\n",
    "intervals_of_constancy.show(axes=False)"
   ]
  },
  {
   "cell_type": "code",
   "execution_count": 18,
   "metadata": {},
   "outputs": [],
   "source": [
    "point??"
   ]
  },
  {
   "cell_type": "code",
   "execution_count": null,
   "metadata": {},
   "outputs": [],
   "source": []
  },
  {
   "cell_type": "markdown",
   "metadata": {},
   "source": [
    "<h3>5. Промежутки возрастания и убывания</h3>"
   ]
  },
  {
   "cell_type": "code",
   "execution_count": 19,
   "metadata": {},
   "outputs": [
    {
     "data": {
      "text/html": [
       "<html><script type=\"math/tex; mode=display\">\\newcommand{\\Bold}[1]{\\mathbf{#1}}\\verb|Функция| \\frac{\\log\\left(x - 1\\right)}{{\\left(x - 1\\right)}^{2}} \\verb|возрастает|\\phantom{\\verb!x!}\\verb|при|\\phantom{\\verb!x!}\\verb|x:|\\phantom{\\verb!x!}\\verb|(1,| 2.648721270700128 \\verb|)|</script></html>"
      ],
      "text/latex": [
       "\\begin{math}\n",
       "\\newcommand{\\Bold}[1]{\\mathbf{#1}}\\verb|Функция| \\frac{\\log\\left(x - 1\\right)}{{\\left(x - 1\\right)}^{2}} \\verb|возрастает|\\phantom{\\verb!x!}\\verb|при|\\phantom{\\verb!x!}\\verb|x:|\\phantom{\\verb!x!}\\verb|(1,| 2.648721270700128 \\verb|)|\n",
       "\\end{math}"
      ],
      "text/plain": [
       "'Функция ' log(x - 1)/(x - 1)^2 'возрастает при x: (1, ' 2.648721270700128 ')'"
      ]
     },
     "metadata": {},
     "output_type": "display_data"
    },
    {
     "data": {
      "text/html": [
       "<html><script type=\"math/tex; mode=display\">\\newcommand{\\Bold}[1]{\\mathbf{#1}}\\verb|Функция| \\frac{\\log\\left(x - 1\\right)}{{\\left(x - 1\\right)}^{2}} \\verb|убывает|\\phantom{\\verb!x!}\\verb|при|\\phantom{\\verb!x!}\\verb|x:|\\phantom{\\verb!x!}\\verb|(| 2.648721270700128 \\verb|,|\\phantom{\\verb!x!}\\verb|+∞)|</script></html>"
      ],
      "text/latex": [
       "\\begin{math}\n",
       "\\newcommand{\\Bold}[1]{\\mathbf{#1}}\\verb|Функция| \\frac{\\log\\left(x - 1\\right)}{{\\left(x - 1\\right)}^{2}} \\verb|убывает|\\phantom{\\verb!x!}\\verb|при|\\phantom{\\verb!x!}\\verb|x:|\\phantom{\\verb!x!}\\verb|(| 2.648721270700128 \\verb|,|\\phantom{\\verb!x!}\\verb|+∞)|\n",
       "\\end{math}"
      ],
      "text/plain": [
       "'Функция ' log(x - 1)/(x - 1)^2 'убывает при x: (' 2.648721270700128 ', +∞)'"
      ]
     },
     "metadata": {},
     "output_type": "display_data"
    }
   ],
   "source": [
    "differential = diff(y)\n",
    "differential_root = find_root(differential, 1, 100)\n",
    "if (differential(differential_root - 0.5) < 0):\n",
    "    show(\"Функция \", y, \"убывает при x: (1, \", differential_root, \")\")\n",
    "else:\n",
    "    show(\"Функция \", y, \"возрастает при x: (1, \", differential_root, \")\")\n",
    "    \n",
    "if (differential(differential_root + 0.5) < 0):\n",
    "    show(\"Функция \", y, \"убывает при x: (\", differential_root, \", +\\u221E)\")\n",
    "else:\n",
    "    show(\"Функция \", y, \"возрастает при x: (\", differential_root, \", +\\u221E)\")"
   ]
  },
  {
   "cell_type": "code",
   "execution_count": 20,
   "metadata": {},
   "outputs": [
    {
     "data": {
      "text/plain": [
       "[x == e^(1/2) + 1]"
      ]
     },
     "execution_count": 20,
     "metadata": {},
     "output_type": "execute_result"
    }
   ],
   "source": [
    "solve(differential, x)"
   ]
  },
  {
   "cell_type": "markdown",
   "metadata": {},
   "source": [
    "<h3>6. Точки экстремума и значения в этих точках.</h3>"
   ]
  },
  {
   "cell_type": "code",
   "execution_count": 21,
   "metadata": {},
   "outputs": [
    {
     "ename": "TypeError",
     "evalue": "no canonical coercion from <class 'sage.structure.sequence.Sequence_generic'> to Symbolic Ring",
     "output_type": "error",
     "traceback": [
      "\u001b[0;31m---------------------------------------------------------------------------\u001b[0m",
      "\u001b[0;31mTypeError\u001b[0m                                 Traceback (most recent call last)",
      "\u001b[0;32m/opt/sagemath-9.2/local/lib/python3.7/site-packages/sage/symbolic/expression.pyx\u001b[0m in \u001b[0;36msage.symbolic.expression.Expression.coerce_in (build/cythonized/sage/symbolic/expression.cpp:24022)\u001b[0;34m()\u001b[0m\n\u001b[1;32m   3456\u001b[0m         \u001b[0;32mtry\u001b[0m\u001b[0;34m:\u001b[0m\u001b[0;34m\u001b[0m\u001b[0;34m\u001b[0m\u001b[0m\n\u001b[0;32m-> 3457\u001b[0;31m             \u001b[0;32mreturn\u001b[0m \u001b[0;34m<\u001b[0m\u001b[0mExpression\u001b[0m\u001b[0;31m?\u001b[0m\u001b[0;34m>\u001b[0m\u001b[0mz\u001b[0m\u001b[0;34m\u001b[0m\u001b[0;34m\u001b[0m\u001b[0m\n\u001b[0m\u001b[1;32m   3458\u001b[0m         \u001b[0;32mexcept\u001b[0m \u001b[0mTypeError\u001b[0m\u001b[0;34m:\u001b[0m\u001b[0;34m\u001b[0m\u001b[0;34m\u001b[0m\u001b[0m\n",
      "\u001b[0;31mTypeError\u001b[0m: Cannot convert Sequence_generic to sage.symbolic.expression.Expression",
      "\nDuring handling of the above exception, another exception occurred:\n",
      "\u001b[0;31mTypeError\u001b[0m                                 Traceback (most recent call last)",
      "\u001b[0;32m<ipython-input-21-ef414e3ac711>\u001b[0m in \u001b[0;36m<module>\u001b[0;34m\u001b[0m\n\u001b[1;32m      2\u001b[0m \u001b[0mx_extremum\u001b[0m \u001b[0;34m=\u001b[0m \u001b[0msolve\u001b[0m\u001b[0;34m(\u001b[0m\u001b[0mdifferential\u001b[0m\u001b[0;34m,\u001b[0m \u001b[0mx\u001b[0m\u001b[0;34m)\u001b[0m\u001b[0;34m\u001b[0m\u001b[0;34m\u001b[0m\u001b[0m\n\u001b[1;32m      3\u001b[0m \u001b[0mx_extremum\u001b[0m\u001b[0;34m\u001b[0m\u001b[0;34m\u001b[0m\u001b[0m\n\u001b[0;32m----> 4\u001b[0;31m \u001b[0my\u001b[0m\u001b[0;34m(\u001b[0m\u001b[0mx_extremum\u001b[0m\u001b[0;34m)\u001b[0m\u001b[0;34m\u001b[0m\u001b[0;34m\u001b[0m\u001b[0m\n\u001b[0m\u001b[1;32m      5\u001b[0m \u001b[0;31m#show(\"Значение в точке x = \", differential_root, \": y = \", y(differential_root))\u001b[0m\u001b[0;34m\u001b[0m\u001b[0;34m\u001b[0m\u001b[0;34m\u001b[0m\u001b[0m\n",
      "\u001b[0;32m/opt/sagemath-9.2/local/lib/python3.7/site-packages/sage/symbolic/expression.pyx\u001b[0m in \u001b[0;36msage.symbolic.expression.Expression.__call__ (build/cythonized/sage/symbolic/expression.cpp:32820)\u001b[0;34m()\u001b[0m\n\u001b[1;32m   5563\u001b[0m             \u001b[0mz\u001b[0m\u001b[0;34m^\u001b[0m\u001b[0;36m2\u001b[0m \u001b[0;34m+\u001b[0m \u001b[0mx\u001b[0m\u001b[0;34m^\u001b[0m\u001b[0my\u001b[0m\u001b[0;34m\u001b[0m\u001b[0;34m\u001b[0m\u001b[0m\n\u001b[1;32m   5564\u001b[0m         \"\"\"\n\u001b[0;32m-> 5565\u001b[0;31m         \u001b[0;32mreturn\u001b[0m \u001b[0mself\u001b[0m\u001b[0;34m.\u001b[0m\u001b[0m_parent\u001b[0m\u001b[0;34m.\u001b[0m\u001b[0m_call_element_\u001b[0m\u001b[0;34m(\u001b[0m\u001b[0mself\u001b[0m\u001b[0;34m,\u001b[0m \u001b[0;34m*\u001b[0m\u001b[0margs\u001b[0m\u001b[0;34m,\u001b[0m \u001b[0;34m**\u001b[0m\u001b[0mkwds\u001b[0m\u001b[0;34m)\u001b[0m\u001b[0;34m\u001b[0m\u001b[0;34m\u001b[0m\u001b[0m\n\u001b[0m\u001b[1;32m   5566\u001b[0m \u001b[0;34m\u001b[0m\u001b[0m\n\u001b[1;32m   5567\u001b[0m     \u001b[0;32mdef\u001b[0m \u001b[0mvariables\u001b[0m\u001b[0;34m(\u001b[0m\u001b[0mself\u001b[0m\u001b[0;34m)\u001b[0m\u001b[0;34m:\u001b[0m\u001b[0;34m\u001b[0m\u001b[0;34m\u001b[0m\u001b[0m\n",
      "\u001b[0;32m/opt/sagemath-9.2/local/lib/python3.7/site-packages/sage/symbolic/ring.pyx\u001b[0m in \u001b[0;36msage.symbolic.ring.SymbolicRing._call_element_ (build/cythonized/sage/symbolic/ring.cpp:11414)\u001b[0;34m()\u001b[0m\n\u001b[1;32m   1011\u001b[0m                     \u001b[0;32mraise\u001b[0m \u001b[0mValueError\u001b[0m\u001b[0;34m(\u001b[0m\u001b[0;34m\"the number of arguments must be less than or equal to %s\"\u001b[0m\u001b[0;34m%\u001b[0m\u001b[0mlen\u001b[0m\u001b[0;34m(\u001b[0m\u001b[0mvars\u001b[0m\u001b[0;34m)\u001b[0m\u001b[0;34m)\u001b[0m\u001b[0;34m\u001b[0m\u001b[0;34m\u001b[0m\u001b[0m\n\u001b[1;32m   1012\u001b[0m \u001b[0;34m\u001b[0m\u001b[0m\n\u001b[0;32m-> 1013\u001b[0;31m         \u001b[0;32mreturn\u001b[0m \u001b[0m_the_element\u001b[0m\u001b[0;34m.\u001b[0m\u001b[0msubs\u001b[0m\u001b[0;34m(\u001b[0m\u001b[0md\u001b[0m\u001b[0;34m,\u001b[0m \u001b[0;34m**\u001b[0m\u001b[0mkwds\u001b[0m\u001b[0;34m)\u001b[0m\u001b[0;34m\u001b[0m\u001b[0;34m\u001b[0m\u001b[0m\n\u001b[0m\u001b[1;32m   1014\u001b[0m \u001b[0;34m\u001b[0m\u001b[0m\n\u001b[1;32m   1015\u001b[0m     \u001b[0;32mdef\u001b[0m \u001b[0msubring\u001b[0m\u001b[0;34m(\u001b[0m\u001b[0mself\u001b[0m\u001b[0;34m,\u001b[0m \u001b[0;34m*\u001b[0m\u001b[0margs\u001b[0m\u001b[0;34m,\u001b[0m \u001b[0;34m**\u001b[0m\u001b[0mkwds\u001b[0m\u001b[0;34m)\u001b[0m\u001b[0;34m:\u001b[0m\u001b[0;34m\u001b[0m\u001b[0;34m\u001b[0m\u001b[0m\n",
      "\u001b[0;32m/opt/sagemath-9.2/local/lib/python3.7/site-packages/sage/symbolic/expression.pyx\u001b[0m in \u001b[0;36msage.symbolic.expression.Expression.substitute (build/cythonized/sage/symbolic/expression.cpp:31894)\u001b[0;34m()\u001b[0m\n\u001b[1;32m   5419\u001b[0m         \u001b[0;32mfor\u001b[0m \u001b[0mk\u001b[0m\u001b[0;34m,\u001b[0m \u001b[0mv\u001b[0m \u001b[0;32min\u001b[0m \u001b[0msdict\u001b[0m\u001b[0;34m.\u001b[0m\u001b[0miteritems\u001b[0m\u001b[0;34m(\u001b[0m\u001b[0;34m)\u001b[0m\u001b[0;34m:\u001b[0m\u001b[0;34m\u001b[0m\u001b[0;34m\u001b[0m\u001b[0m\n\u001b[1;32m   5420\u001b[0m             smap.insert(make_pair((<Expression>self.coerce_in(k))._gobj,\n\u001b[0;32m-> 5421\u001b[0;31m                                   (<Expression>self.coerce_in(v))._gobj))\n\u001b[0m\u001b[1;32m   5422\u001b[0m         \u001b[0mres\u001b[0m \u001b[0;34m=\u001b[0m \u001b[0mself\u001b[0m\u001b[0;34m.\u001b[0m\u001b[0m_gobj\u001b[0m\u001b[0;34m.\u001b[0m\u001b[0msubs_map\u001b[0m\u001b[0;34m(\u001b[0m\u001b[0msmap\u001b[0m\u001b[0;34m,\u001b[0m \u001b[0;36m0\u001b[0m\u001b[0;34m)\u001b[0m\u001b[0;34m\u001b[0m\u001b[0;34m\u001b[0m\u001b[0m\n\u001b[1;32m   5423\u001b[0m         \u001b[0;32mreturn\u001b[0m \u001b[0mnew_Expression_from_GEx\u001b[0m\u001b[0;34m(\u001b[0m\u001b[0mself\u001b[0m\u001b[0;34m.\u001b[0m\u001b[0m_parent\u001b[0m\u001b[0;34m,\u001b[0m \u001b[0mres\u001b[0m\u001b[0;34m)\u001b[0m\u001b[0;34m\u001b[0m\u001b[0;34m\u001b[0m\u001b[0m\n",
      "\u001b[0;32m/opt/sagemath-9.2/local/lib/python3.7/site-packages/sage/symbolic/expression.pyx\u001b[0m in \u001b[0;36msage.symbolic.expression.Expression.coerce_in (build/cythonized/sage/symbolic/expression.cpp:24074)\u001b[0;34m()\u001b[0m\n\u001b[1;32m   3457\u001b[0m             \u001b[0;32mreturn\u001b[0m \u001b[0;34m<\u001b[0m\u001b[0mExpression\u001b[0m\u001b[0;31m?\u001b[0m\u001b[0;34m>\u001b[0m\u001b[0mz\u001b[0m\u001b[0;34m\u001b[0m\u001b[0;34m\u001b[0m\u001b[0m\n\u001b[1;32m   3458\u001b[0m         \u001b[0;32mexcept\u001b[0m \u001b[0mTypeError\u001b[0m\u001b[0;34m:\u001b[0m\u001b[0;34m\u001b[0m\u001b[0;34m\u001b[0m\u001b[0m\n\u001b[0;32m-> 3459\u001b[0;31m             \u001b[0;32mreturn\u001b[0m \u001b[0mself\u001b[0m\u001b[0;34m.\u001b[0m\u001b[0m_parent\u001b[0m\u001b[0;34m.\u001b[0m\u001b[0m_coerce_\u001b[0m\u001b[0;34m(\u001b[0m\u001b[0mz\u001b[0m\u001b[0;34m)\u001b[0m\u001b[0;34m\u001b[0m\u001b[0;34m\u001b[0m\u001b[0m\n\u001b[0m\u001b[1;32m   3460\u001b[0m \u001b[0;34m\u001b[0m\u001b[0m\n\u001b[1;32m   3461\u001b[0m     \u001b[0mcpdef\u001b[0m \u001b[0m_add_\u001b[0m\u001b[0;34m(\u001b[0m\u001b[0mleft\u001b[0m\u001b[0;34m,\u001b[0m \u001b[0mright\u001b[0m\u001b[0;34m)\u001b[0m\u001b[0;34m:\u001b[0m\u001b[0;34m\u001b[0m\u001b[0;34m\u001b[0m\u001b[0m\n",
      "\u001b[0;32m/opt/sagemath-9.2/local/lib/python3.7/site-packages/sage/structure/parent_old.pyx\u001b[0m in \u001b[0;36msage.structure.parent_old.Parent._coerce_ (build/cythonized/sage/structure/parent_old.c:3806)\u001b[0;34m()\u001b[0m\n\u001b[1;32m    177\u001b[0m     \u001b[0;32mdef\u001b[0m \u001b[0m_coerce_\u001b[0m\u001b[0;34m(\u001b[0m\u001b[0mself\u001b[0m\u001b[0;34m,\u001b[0m \u001b[0mx\u001b[0m\u001b[0;34m)\u001b[0m\u001b[0;34m:\u001b[0m            \u001b[0;31m# Call this from Python (do not override!)\u001b[0m\u001b[0;34m\u001b[0m\u001b[0;34m\u001b[0m\u001b[0m\n\u001b[1;32m    178\u001b[0m         \u001b[0;32mif\u001b[0m \u001b[0mself\u001b[0m\u001b[0;34m.\u001b[0m\u001b[0m_element_constructor\u001b[0m \u001b[0;32mis\u001b[0m \u001b[0;32mnot\u001b[0m \u001b[0;32mNone\u001b[0m\u001b[0;34m:\u001b[0m\u001b[0;34m\u001b[0m\u001b[0;34m\u001b[0m\u001b[0m\n\u001b[0;32m--> 179\u001b[0;31m             \u001b[0;32mreturn\u001b[0m \u001b[0mself\u001b[0m\u001b[0;34m.\u001b[0m\u001b[0mcoerce\u001b[0m\u001b[0;34m(\u001b[0m\u001b[0mx\u001b[0m\u001b[0;34m)\u001b[0m\u001b[0;34m\u001b[0m\u001b[0;34m\u001b[0m\u001b[0m\n\u001b[0m\u001b[1;32m    180\u001b[0m         \u001b[0mcheck_old_coerce\u001b[0m\u001b[0;34m(\u001b[0m\u001b[0mself\u001b[0m\u001b[0;34m)\u001b[0m\u001b[0;34m\u001b[0m\u001b[0;34m\u001b[0m\u001b[0m\n\u001b[1;32m    181\u001b[0m         \u001b[0;32mreturn\u001b[0m \u001b[0mself\u001b[0m\u001b[0;34m.\u001b[0m\u001b[0m_coerce_c\u001b[0m\u001b[0;34m(\u001b[0m\u001b[0mx\u001b[0m\u001b[0;34m)\u001b[0m\u001b[0;34m\u001b[0m\u001b[0;34m\u001b[0m\u001b[0m\n",
      "\u001b[0;32m/opt/sagemath-9.2/local/lib/python3.7/site-packages/sage/structure/parent.pyx\u001b[0m in \u001b[0;36msage.structure.parent.Parent.coerce (build/cythonized/sage/structure/parent.c:10619)\u001b[0;34m()\u001b[0m\n\u001b[1;32m   1142\u001b[0m                 \u001b[0;32mexcept\u001b[0m \u001b[0mException\u001b[0m\u001b[0;34m:\u001b[0m\u001b[0;34m\u001b[0m\u001b[0;34m\u001b[0m\u001b[0m\n\u001b[1;32m   1143\u001b[0m                     \u001b[0m_record_exception\u001b[0m\u001b[0;34m(\u001b[0m\u001b[0;34m)\u001b[0m\u001b[0;34m\u001b[0m\u001b[0;34m\u001b[0m\u001b[0m\n\u001b[0;32m-> 1144\u001b[0;31m             \u001b[0;32mraise\u001b[0m \u001b[0mTypeError\u001b[0m\u001b[0;34m(\u001b[0m\u001b[0m_LazyString\u001b[0m\u001b[0;34m(\u001b[0m\u001b[0m_lazy_format\u001b[0m\u001b[0;34m,\u001b[0m \u001b[0;34m(\u001b[0m\u001b[0;34m\"no canonical coercion from %s to %s\"\u001b[0m\u001b[0;34m,\u001b[0m \u001b[0mparent\u001b[0m\u001b[0;34m(\u001b[0m\u001b[0mx\u001b[0m\u001b[0;34m)\u001b[0m\u001b[0;34m,\u001b[0m \u001b[0mself\u001b[0m\u001b[0;34m)\u001b[0m\u001b[0;34m,\u001b[0m \u001b[0;34m{\u001b[0m\u001b[0;34m}\u001b[0m\u001b[0;34m)\u001b[0m\u001b[0;34m)\u001b[0m\u001b[0;34m\u001b[0m\u001b[0;34m\u001b[0m\u001b[0m\n\u001b[0m\u001b[1;32m   1145\u001b[0m         \u001b[0;32melse\u001b[0m\u001b[0;34m:\u001b[0m\u001b[0;34m\u001b[0m\u001b[0;34m\u001b[0m\u001b[0m\n\u001b[1;32m   1146\u001b[0m             \u001b[0;32mreturn\u001b[0m \u001b[0;34m(\u001b[0m\u001b[0;34m<\u001b[0m\u001b[0mmap\u001b[0m\u001b[0;34m.\u001b[0m\u001b[0mMap\u001b[0m\u001b[0;34m>\u001b[0m\u001b[0mmor\u001b[0m\u001b[0;34m)\u001b[0m\u001b[0;34m.\u001b[0m\u001b[0m_call_\u001b[0m\u001b[0;34m(\u001b[0m\u001b[0mx\u001b[0m\u001b[0;34m)\u001b[0m\u001b[0;34m\u001b[0m\u001b[0;34m\u001b[0m\u001b[0m\n",
      "\u001b[0;31mTypeError\u001b[0m: no canonical coercion from <class 'sage.structure.sequence.Sequence_generic'> to Symbolic Ring"
     ]
    }
   ],
   "source": [
    "#show(\"Точка экстремума: x = \", differential_root)\n",
    "x_extremum = solve(differential, x)\n",
    "x_extremum\n",
    "y(x_extremum)\n",
    "#show(\"Значение в точке x = \", differential_root, \": y = \", y(differential_root))"
   ]
  },
  {
   "cell_type": "markdown",
   "metadata": {},
   "source": [
    "<h3>7. Непрерывность. Наличие точек разрыва и их классификация.</h3>"
   ]
  },
  {
   "cell_type": "code",
   "execution_count": null,
   "metadata": {},
   "outputs": [],
   "source": [
    "limit(y, x = 1, dir = '+')"
   ]
  },
  {
   "cell_type": "markdown",
   "metadata": {},
   "source": [
    "Так как $x > 1$, и функция определена на $x: (1; +\\infty)$, то функция определена и непрерывна.\n",
    "В точке $x = 1$ функция имеет предел, равный $+\\infty$, значит, $x = 1$ - точка разрыва 2 рода."
   ]
  },
  {
   "cell_type": "markdown",
   "metadata": {},
   "source": [
    "<h3>8. Асимптоты</h3>"
   ]
  },
  {
   "cell_type": "code",
   "execution_count": null,
   "metadata": {},
   "outputs": [],
   "source": [
    "line??"
   ]
  },
  {
   "cell_type": "code",
   "execution_count": null,
   "metadata": {},
   "outputs": [],
   "source": [
    "solve??"
   ]
  },
  {
   "cell_type": "code",
   "execution_count": null,
   "metadata": {},
   "outputs": [],
   "source": [
    "limit(y, x = Infinity, dir = '+')"
   ]
  },
  {
   "cell_type": "markdown",
   "metadata": {},
   "source": [
    "Функция имеет горизонтальную асимптоту y = 0. \n",
    "Функция имеет вертикальную асимптоту x = 1."
   ]
  },
  {
   "cell_type": "code",
   "execution_count": 32,
   "metadata": {},
   "outputs": [],
   "source": [
    "point??"
   ]
  },
  {
   "cell_type": "code",
   "execution_count": null,
   "metadata": {},
   "outputs": [],
   "source": []
  }
 ],
 "metadata": {
  "kernelspec": {
   "display_name": "SageMath 9.2",
   "language": "sage",
   "name": "sagemath"
  },
  "language_info": {
   "codemirror_mode": {
    "name": "ipython",
    "version": 3
   },
   "file_extension": ".py",
   "mimetype": "text/x-python",
   "name": "python",
   "nbconvert_exporter": "python",
   "pygments_lexer": "ipython3",
   "version": "3.7.7"
  }
 },
 "nbformat": 4,
 "nbformat_minor": 4
}
